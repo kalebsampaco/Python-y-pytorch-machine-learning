{
 "cells": [
  {
   "cell_type": "markdown",
   "metadata": {
    "colab_type": "text",
    "id": "view-in-github"
   },
   "source": [
    "<a href=\"https://colab.research.google.com/github/kalebsampaco/Python-y-pytorch-machine-learning/blob/master/regresion_log%C3%ADstica.ipynb\" target=\"_parent\"><img src=\"https://colab.research.google.com/assets/colab-badge.svg\" alt=\"Open In Colab\"/></a>"
   ]
  },
  {
   "cell_type": "markdown",
   "metadata": {
    "colab_type": "text",
    "id": "V2MNAZPiXiZS"
   },
   "source": [
    "CLasificación en dos opciones, si o no, 1 o 0"
   ]
  },
  {
   "cell_type": "code",
   "execution_count": 1,
   "metadata": {
    "colab": {},
    "colab_type": "code",
    "id": "mei8vbdLe8nd"
   },
   "outputs": [],
   "source": [
    "import torch\n",
    "import numpy as np\n",
    "import torch.nn as nn\n",
    "import torch.optim as optim\n",
    "\n",
    "import matplotlib.pyplot as plt"
   ]
  },
  {
   "cell_type": "code",
   "execution_count": 3,
   "metadata": {
    "colab": {
     "base_uri": "https://localhost:8080/",
     "height": 1000
    },
    "colab_type": "code",
    "id": "Y0Ny4DapWUVY",
    "outputId": "65487ee4-d24f-4f03-f91d-725f50add47b"
   },
   "outputs": [
    {
     "data": {
      "text/plain": [
       "array([[-4.73808134,  4.83174037],\n",
       "       [-0.99622724, -2.88466059],\n",
       "       [ 3.22127981, -1.0976093 ],\n",
       "       [-2.61196129, -1.30329192],\n",
       "       [ 0.83181845, -2.86124602],\n",
       "       [ 5.03906672,  0.82303663],\n",
       "       [-2.73643363,  5.34989377],\n",
       "       [ 2.27545057,  0.9217358 ],\n",
       "       [ 1.72314783,  0.26412316],\n",
       "       [-3.25891508,  3.3443406 ],\n",
       "       [ 5.35154841, -5.47657439],\n",
       "       [ 1.58039405, -2.56828777],\n",
       "       [-4.03880704, -0.38490718],\n",
       "       [ 1.36007278, -1.42513374],\n",
       "       [ 3.05520736, -3.46472213],\n",
       "       [-5.55019474,  2.96553971],\n",
       "       [ 2.4488916 ,  2.82439017],\n",
       "       [ 1.13777527,  1.76478623],\n",
       "       [ 1.30797372, -3.24292559],\n",
       "       [ 0.48725698,  0.71735498],\n",
       "       [-5.37603436,  2.74388153],\n",
       "       [-3.41723659, -0.22340264],\n",
       "       [ 1.89946834, -2.60994328],\n",
       "       [-2.14487393,  8.2667191 ],\n",
       "       [-0.14221045,  1.29801528],\n",
       "       [ 2.15156617, -1.15224027],\n",
       "       [ 0.5728393 , -1.19905981],\n",
       "       [ 3.71717707, -2.87654518],\n",
       "       [ 1.7411912 , -0.48524692],\n",
       "       [ 1.65748581,  2.94216297],\n",
       "       [-1.56153003, -1.82989493],\n",
       "       [-2.64849116,  2.60189312],\n",
       "       [-2.79654401,  4.12357939],\n",
       "       [-0.70699871,  0.35081693],\n",
       "       [-1.13397625, -1.639276  ],\n",
       "       [-0.33549862, -3.6725194 ],\n",
       "       [ 3.83664582,  3.22729776],\n",
       "       [-5.40101924, -3.2803508 ],\n",
       "       [-4.28890089, -0.68907654],\n",
       "       [ 0.02818806,  9.29448801],\n",
       "       [-1.8951635 ,  1.80721015],\n",
       "       [-1.03607217, -4.74237837],\n",
       "       [ 1.69225048, -1.54796791],\n",
       "       [-3.65880692,  1.46943101],\n",
       "       [-2.60701361,  1.96653371],\n",
       "       [ 5.41237277, -0.92429344],\n",
       "       [-3.73898669,  3.39448869],\n",
       "       [ 0.54536973, -2.56944623],\n",
       "       [-1.41946272, -2.24492552],\n",
       "       [ 4.96082485, -1.41900756],\n",
       "       [-1.82923114,  1.80852465],\n",
       "       [-0.88605404,  0.40504274],\n",
       "       [ 3.5198711 ,  2.89630739],\n",
       "       [ 1.83448095,  5.20574397],\n",
       "       [ 2.46700569, -1.00894135],\n",
       "       [ 5.36913379, -1.21570081],\n",
       "       [-0.92360886,  1.25751727],\n",
       "       [ 1.65960669,  0.83677936],\n",
       "       [-0.35942141,  4.3812992 ],\n",
       "       [ 2.8352507 ,  1.54779094],\n",
       "       [-0.84880827,  2.57284913],\n",
       "       [-1.08030315, -1.59641768],\n",
       "       [ 3.07318499, -2.54958764],\n",
       "       [ 5.50053385,  2.92068863],\n",
       "       [-1.06202444,  2.38720024],\n",
       "       [-5.25001526, -6.26364728],\n",
       "       [-2.61177281, -2.60001108],\n",
       "       [ 1.93635904, -2.90403475],\n",
       "       [-3.47891411,  0.42204169],\n",
       "       [ 2.20372006, -2.7366602 ],\n",
       "       [-0.88764472, -4.04584789],\n",
       "       [-1.64648039, -0.15656728],\n",
       "       [-2.02574137, -6.06014668],\n",
       "       [ 5.47846813,  0.79550953],\n",
       "       [ 2.44342862,  2.70741594],\n",
       "       [ 0.92104648,  6.62038235],\n",
       "       [-0.91901155, -2.24142159],\n",
       "       [-8.77370888,  3.74501953],\n",
       "       [ 2.88915455, -1.07809829],\n",
       "       [-1.62824494, -0.27638237],\n",
       "       [-4.13067067, -3.58554483],\n",
       "       [-3.1145094 ,  2.49692532],\n",
       "       [ 1.98258167,  1.46040326],\n",
       "       [-1.74946998, -0.60722287],\n",
       "       [-6.31218482, -0.96648589],\n",
       "       [-1.8544038 ,  0.5962773 ],\n",
       "       [-2.09471654, -3.75769672],\n",
       "       [-3.54214769,  3.30811207],\n",
       "       [ 1.84070379, -0.10201748],\n",
       "       [-2.6225747 ,  2.6124516 ],\n",
       "       [-1.05969249, -0.17293344],\n",
       "       [ 2.08992525,  2.0713055 ],\n",
       "       [ 1.96979104,  0.97574654],\n",
       "       [ 8.64610334, -5.41352074],\n",
       "       [ 3.99812595, -1.70345691],\n",
       "       [ 3.11495762, -1.61014841],\n",
       "       [-0.859649  , -3.19087971],\n",
       "       [-1.50184323,  5.04447402],\n",
       "       [ 0.11140233, -6.45968551],\n",
       "       [ 2.14775492,  0.13108208]])"
      ]
     },
     "execution_count": 3,
     "metadata": {
      "tags": []
     },
     "output_type": "execute_result"
    }
   ],
   "source": [
    "n = 100\n",
    "h = n//2\n",
    "dimen = 2\n",
    "\n",
    "data = np.random.randn(n, dimen)*3\n",
    "\n",
    "data"
   ]
  },
  {
   "cell_type": "code",
   "execution_count": 4,
   "metadata": {
    "colab": {
     "base_uri": "https://localhost:8080/",
     "height": 283
    },
    "colab_type": "code",
    "id": "aPmyb7UOfKWi",
    "outputId": "931e40f7-60bd-4ad6-fed2-42fc03d22149"
   },
   "outputs": [
    {
     "data": {
      "text/plain": [
       "<matplotlib.collections.PathCollection at 0x7f52ddec0cc0>"
      ]
     },
     "execution_count": 4,
     "metadata": {
      "tags": []
     },
     "output_type": "execute_result"
    },
    {
     "data": {
      "image/png": "[encoded data removed]",
      "text/plain": [
       "<Figure size 432x288 with 1 Axes>"
      ]
     },
     "metadata": {
      "needs_background": "light",
      "tags": []
     },
     "output_type": "display_data"
    }
   ],
   "source": [
    "plt.scatter(data[:,0], data[:,1])"
   ]
  },
  {
   "cell_type": "code",
   "execution_count": 6,
   "metadata": {
    "colab": {},
    "colab_type": "code",
    "id": "QlPJXkHHgkuO"
   },
   "outputs": [],
   "source": [
    "data[:h, :]= data[:h, :] - 3*np.ones((h, dimen))"
   ]
  },
  {
   "cell_type": "code",
   "execution_count": 7,
   "metadata": {
    "colab": {},
    "colab_type": "code",
    "id": "PtKN86Bghd1P"
   },
   "outputs": [],
   "source": [
    "data[h:, :]= data[h:, :] + 3*np.ones((h, dimen))"
   ]
  },
  {
   "cell_type": "code",
   "execution_count": 11,
   "metadata": {
    "colab": {
     "base_uri": "https://localhost:8080/",
     "height": 281
    },
    "colab_type": "code",
    "id": "77LTATEih6bR",
    "outputId": "431ad83c-6c9f-42ca-b1ed-0421979aca87"
   },
   "outputs": [
    {
     "data": {
      "text/plain": [
       "<matplotlib.collections.PathCollection at 0x7f52dd742828>"
      ]
     },
     "execution_count": 11,
     "metadata": {
      "tags": []
     },
     "output_type": "execute_result"
    },
    {
     "data": {
      "image/png": "[encoded data removed]",
      "text/plain": [
       "<Figure size 432x288 with 1 Axes>"
      ]
     },
     "metadata": {
      "needs_background": "light",
      "tags": []
     },
     "output_type": "display_data"
    }
   ],
   "source": [
    "colors = ['blue', 'red']\n",
    "\n",
    "color = np.array([colors[0]]*h + [colors[1]]*h).reshape(n)\n",
    "plt.scatter(data[:,0], data[:,1], c=color, s=75, alpha=0.6)\n"
   ]
  },
  {
   "cell_type": "code",
   "execution_count": 12,
   "metadata": {
    "colab": {
     "base_uri": "https://localhost:8080/",
     "height": 33
    },
    "colab_type": "code",
    "id": "41nPF01FiBi0",
    "outputId": "8e7b451d-b004-4f31-b6ef-df418165ce0c"
   },
   "outputs": [
    {
     "data": {
      "text/plain": [
       "(torch.Size([100, 2]), torch.Size([100, 1]))"
      ]
     },
     "execution_count": 12,
     "metadata": {
      "tags": []
     },
     "output_type": "execute_result"
    }
   ],
   "source": [
    "target = np.array([0]*h + [1]*h).reshape(n, 1)\n",
    "x = torch.from_numpy(data).float().requires_grad_(True)\n",
    "y = torch.from_numpy(target).float()\n",
    "\n",
    "x.shape, y.shape"
   ]
  },
  {
   "cell_type": "code",
   "execution_count": 14,
   "metadata": {
    "colab": {
     "base_uri": "https://localhost:8080/",
     "height": 281
    },
    "colab_type": "code",
    "id": "0scfjZkEmJS8",
    "outputId": "bec853aa-760f-4a18-f7a8-f2d6b694848b"
   },
   "outputs": [
    {
     "data": {
      "text/plain": [
       "tensor(0.1824, grad_fn=<BinaryCrossEntropyBackward>)"
      ]
     },
     "execution_count": 14,
     "metadata": {
      "tags": []
     },
     "output_type": "execute_result"
    },
    {
     "data": {
      "image/png": "[encoded data removed]",
      "text/plain": [
       "<Figure size 432x288 with 1 Axes>"
      ]
     },
     "metadata": {
      "needs_background": "light",
      "tags": []
     },
     "output_type": "display_data"
    }
   ],
   "source": [
    "model = nn.Sequential(\n",
    "        nn.Linear(2, 1),\n",
    "        nn.Sigmoid()\n",
    "        )\n",
    "loss_function = nn.BCELoss()\n",
    "\n",
    "optimizer = optim.SGD(model.parameters(), lr=0.01)\n",
    "\n",
    "losses = []\n",
    "iteration = 1000\n",
    "\n",
    "for i in range(iteration):\n",
    "  result = model(x)\n",
    "\n",
    "  loss = loss_function(result, y)\n",
    "  losses.append(loss.data)\n",
    "\n",
    "  optimizer.zero_grad()\n",
    "  loss.backward()\n",
    "\n",
    "  optimizer.step()\n",
    "\n",
    "plt.plot(range(iteration), losses)\n",
    "loss\n"
   ]
  },
  {
   "cell_type": "code",
   "execution_count": 16,
   "metadata": {
    "colab": {
     "base_uri": "https://localhost:8080/",
     "height": 50
    },
    "colab_type": "code",
    "id": "bmAmFSBbpYV4",
    "outputId": "19f43505-388a-4a80-dbf6-30904b7a1ce9"
   },
   "outputs": [
    {
     "name": "stdout",
     "output_type": "stream",
     "text": [
      "blue\n",
      "red\n"
     ]
    }
   ],
   "source": [
    "blue = torch.Tensor([[-5, -6]])\n",
    "prediction = model(blue).data[0][0] > 0.5\n",
    "print(colors[prediction])\n",
    "\n",
    "red = torch.Tensor([[8, 6]])\n",
    "prediction = model(red).data[0][0] > 0.5\n",
    "print(colors[prediction])\n"
   ]
  },
  {
   "cell_type": "code",
   "execution_count": 17,
   "metadata": {
    "colab": {
     "base_uri": "https://localhost:8080/",
     "height": 281
    },
    "colab_type": "code",
    "id": "By1z9VQyqCGs",
    "outputId": "8bf48e41-3798-4d82-c89d-3d7f32776ed3"
   },
   "outputs": [
    {
     "data": {
      "text/plain": [
       "[<matplotlib.lines.Line2D at 0x7f52db429a20>]"
      ]
     },
     "execution_count": 17,
     "metadata": {
      "tags": []
     },
     "output_type": "execute_result"
    },
    {
     "data": {
      "image/png": "[encoded data removed]",
      "text/plain": [
       "<Figure size 432x288 with 1 Axes>"
      ]
     },
     "metadata": {
      "needs_background": "light",
      "tags": []
     },
     "output_type": "display_data"
    }
   ],
   "source": [
    "w = list(model.parameters())\n",
    "w0 = w[0].data.numpy()\n",
    "w1 = w[1].data.numpy()\n",
    "\n",
    "plt.scatter(data[:,0], data[:,1], c=color, s=75, alpha=0.6)\n",
    "\n",
    "x_axis = np.linspace(-10, 10, n)\n",
    "y_axis =-(w1[0] + x_axis*w0[0][0]) / w0[0][1]\n",
    "plt.plot(x_axis, y_axis, 'g--')"
   ]
  },
  {
   "cell_type": "code",
   "execution_count": 2,
   "metadata": {},
   "outputs": [],
   "source": [
    "!conda activate cursotf1"
   ]
  },
  {
   "cell_type": "code",
   "execution_count": 5,
   "metadata": {
    "colab": {},
    "colab_type": "code",
    "id": "MEk9jmfksFiy"
   },
   "outputs": [
    {
     "ename": "ModuleNotFoundError",
     "evalue": "No module named 'torch'",
     "output_type": "error",
     "traceback": [
      "\u001b[1;31m---------------------------------------------------------------------------\u001b[0m",
      "\u001b[1;31mModuleNotFoundError\u001b[0m                       Traceback (most recent call last)",
      "\u001b[1;32m<ipython-input-5-50580d1f7225>\u001b[0m in \u001b[0;36m<module>\u001b[1;34m\u001b[0m\n\u001b[1;32m----> 1\u001b[1;33m \u001b[1;32mimport\u001b[0m \u001b[0mtorch\u001b[0m\u001b[1;33m\u001b[0m\u001b[1;33m\u001b[0m\u001b[0m\n\u001b[0m\u001b[0;32m      2\u001b[0m \u001b[1;33m\u001b[0m\u001b[0m\n\u001b[0;32m      3\u001b[0m \u001b[0mnew_tensor\u001b[0m \u001b[1;33m=\u001b[0m \u001b[0mtorch\u001b[0m\u001b[1;33m.\u001b[0m\u001b[0mtensor\u001b[0m\u001b[1;33m(\u001b[0m\u001b[1;33m[\u001b[0m\u001b[1;33m[\u001b[0m\u001b[1;36m1.0\u001b[0m\u001b[1;33m,\u001b[0m \u001b[1;36m2.0\u001b[0m\u001b[1;33m]\u001b[0m\u001b[1;33m,\u001b[0m\u001b[1;33m[\u001b[0m\u001b[1;36m3.0\u001b[0m\u001b[1;33m,\u001b[0m \u001b[1;36m4.0\u001b[0m\u001b[1;33m]\u001b[0m\u001b[1;33m]\u001b[0m\u001b[1;33m)\u001b[0m\u001b[1;33m\u001b[0m\u001b[1;33m\u001b[0m\u001b[0m\n\u001b[0;32m      4\u001b[0m print(torch.mean(new_tensor, dim=1),\n\u001b[0;32m      5\u001b[0m       \u001b[0mtorch\u001b[0m\u001b[1;33m.\u001b[0m\u001b[0mmean\u001b[0m\u001b[1;33m(\u001b[0m\u001b[0mnew_tensor\u001b[0m\u001b[1;33m,\u001b[0m \u001b[0mdim\u001b[0m\u001b[1;33m=\u001b[0m\u001b[1;36m0\u001b[0m\u001b[1;33m)\u001b[0m\u001b[1;33m,\u001b[0m\u001b[1;33m\u001b[0m\u001b[1;33m\u001b[0m\u001b[0m\n",
      "\u001b[1;31mModuleNotFoundError\u001b[0m: No module named 'torch'"
     ]
    }
   ],
   "source": [
    "import torch\n",
    "\n",
    "new_tensor = torch.tensor([[1.0, 2.0],[3.0, 4.0]])\n",
    "print(torch.mean(new_tensor, dim=1),\n",
    "      torch.mean(new_tensor, dim=0),\n",
    "      torch.mean(new_tensor)) "
   ]
  },
  {
   "cell_type": "code",
   "execution_count": null,
   "metadata": {},
   "outputs": [],
   "source": []
  }
 ],
 "metadata": {
  "colab": {
   "authorship_tag": "ABX9TyPvrk86ustWyn9FzMO8RUkm",
   "collapsed_sections": [],
   "include_colab_link": true,
   "name": "regresion logística.ipynb",
   "provenance": []
  },
  "kernelspec": {
   "display_name": "Python 3",
   "language": "python",
   "name": "python3"
  },
  "language_info": {
   "codemirror_mode": {
    "name": "ipython",
    "version": 3
   },
   "file_extension": ".py",
   "mimetype": "text/x-python",
   "name": "python",
   "nbconvert_exporter": "python",
   "pygments_lexer": "ipython3",
   "version": "3.7.6"
  }
 },
 "nbformat": 4,
 "nbformat_minor": 1
}
